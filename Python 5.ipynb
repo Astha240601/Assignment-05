{
 "cells": [
  {
   "cell_type": "code",
   "execution_count": 1,
   "id": "d91d3a32",
   "metadata": {},
   "outputs": [
    {
     "name": "stdout",
     "output_type": "stream",
     "text": [
      "sort:\n",
      "[(2, 1), (1, 2), (2, 3), (4, 4), (2, 5)]\n"
     ]
    }
   ],
   "source": [
    "#python program to get a list,sorted in increasing order by the last element in each tuple from a given list of non -empty tuples\n",
    "def last(n):\n",
    "    return n[-1]\n",
    "def sort(tuples):\n",
    "    return sorted(tuples,key=last)\n",
    "a=[(2,5),(1,2),(4,4),(2,3),(2,1)]\n",
    "print(\"sort:\")\n",
    "print(sort(a))\n"
   ]
  },
  {
   "cell_type": "code",
   "execution_count": null,
   "id": "0158d91d",
   "metadata": {},
   "outputs": [],
   "source": []
  },
  {
   "cell_type": "code",
   "execution_count": null,
   "id": "561c6d13",
   "metadata": {},
   "outputs": [],
   "source": []
  }
 ],
 "metadata": {
  "kernelspec": {
   "display_name": "Python 3 (ipykernel)",
   "language": "python",
   "name": "python3"
  },
  "language_info": {
   "codemirror_mode": {
    "name": "ipython",
    "version": 3
   },
   "file_extension": ".py",
   "mimetype": "text/x-python",
   "name": "python",
   "nbconvert_exporter": "python",
   "pygments_lexer": "ipython3",
   "version": "3.9.12"
  }
 },
 "nbformat": 4,
 "nbformat_minor": 5
}
